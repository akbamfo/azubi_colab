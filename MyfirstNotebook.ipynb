{
  "nbformat": 4,
  "nbformat_minor": 0,
  "metadata": {
    "colab": {
      "provenance": [],
      "authorship_tag": "ABX9TyMiCdO9IvcEocttnEpnRYhf",
      "include_colab_link": true
    },
    "kernelspec": {
      "name": "python3",
      "display_name": "Python 3"
    },
    "language_info": {
      "name": "python"
    }
  },
  "cells": [
    {
      "cell_type": "markdown",
      "metadata": {
        "id": "view-in-github",
        "colab_type": "text"
      },
      "source": [
        "<a href=\"https://colab.research.google.com/github/akbamfo/azubi_colab/blob/main/MyfirstNotebook.ipynb\" target=\"_parent\"><img src=\"https://colab.research.google.com/assets/colab-badge.svg\" alt=\"Open In Colab\"/></a>"
      ]
    },
    {
      "cell_type": "code",
      "execution_count": 3,
      "metadata": {
        "colab": {
          "base_uri": "https://localhost:8080/"
        },
        "id": "Qiw6E7mIU8iZ",
        "outputId": "358ac42c-e7d6-4543-ce34-b9ce7e726c5a"
      },
      "outputs": [
        {
          "output_type": "stream",
          "name": "stdout",
          "text": [
            "Hello World\n"
          ]
        }
      ],
      "source": [
        "print(\"Hello World\")"
      ]
    },
    {
      "cell_type": "code",
      "source": [
        "print('I love Azubi Africa')"
      ],
      "metadata": {
        "colab": {
          "base_uri": "https://localhost:8080/"
        },
        "id": "W9rgbKMNgEm2",
        "outputId": "224aa3ad-aa2c-44b1-d26b-efad22281fbb"
      },
      "execution_count": 4,
      "outputs": [
        {
          "output_type": "stream",
          "name": "stdout",
          "text": [
            "I love Azubi Africa\n"
          ]
        }
      ]
    },
    {
      "cell_type": "code",
      "source": [
        "fav = 'I love Azubi Africa'\n",
        "print(fav)"
      ],
      "metadata": {
        "colab": {
          "base_uri": "https://localhost:8080/"
        },
        "id": "HHg_4SeWgM2q",
        "outputId": "1a4ce1f5-8d4c-4917-cee6-40163bfcf5ef"
      },
      "execution_count": 5,
      "outputs": [
        {
          "output_type": "stream",
          "name": "stdout",
          "text": [
            "I love Azubi Africa\n"
          ]
        }
      ]
    },
    {
      "cell_type": "markdown",
      "source": [
        "String Concatenation : Adding two Strings"
      ],
      "metadata": {
        "id": "sD5eqliRirbb"
      }
    },
    {
      "cell_type": "code",
      "source": [
        "first_name = 'Azubi'\n",
        "last_name = 'Africa'\n",
        "print('My name is ' + first_name + ' ' + last_name)"
      ],
      "metadata": {
        "colab": {
          "base_uri": "https://localhost:8080/"
        },
        "id": "KM-7N7prhD2y",
        "outputId": "c62e92ff-aea5-4948-d2cf-e2db3088a295"
      },
      "execution_count": 14,
      "outputs": [
        {
          "output_type": "stream",
          "name": "stdout",
          "text": [
            "My name is Azubi Africa\n"
          ]
        }
      ]
    },
    {
      "cell_type": "markdown",
      "source": [
        "String Concatenation Shortcut using f-string"
      ],
      "metadata": {
        "id": "V11CM7WAjfvx"
      }
    },
    {
      "cell_type": "code",
      "source": [
        "first_name = 'Azubi'\n",
        "last_name = 'Africa'\n",
        "print(f'My name is {first_name} {last_name}')"
      ],
      "metadata": {
        "colab": {
          "base_uri": "https://localhost:8080/"
        },
        "id": "MGzf9ympjns3",
        "outputId": "5a5efd35-5030-47ae-b6aa-63d75c1639c9"
      },
      "execution_count": 19,
      "outputs": [
        {
          "output_type": "stream",
          "name": "stdout",
          "text": [
            "My name is Azubi Africa\n"
          ]
        }
      ]
    },
    {
      "cell_type": "markdown",
      "source": [
        "Numbers"
      ],
      "metadata": {
        "id": "9OcaPrHPk7_I"
      }
    },
    {
      "cell_type": "code",
      "source": [
        "2+2"
      ],
      "metadata": {
        "colab": {
          "base_uri": "https://localhost:8080/"
        },
        "id": "vKTO1Rj_k_qg",
        "outputId": "323189ab-1f2c-4d55-bed1-f6e8103ace06"
      },
      "execution_count": 20,
      "outputs": [
        {
          "output_type": "execute_result",
          "data": {
            "text/plain": [
              "4"
            ]
          },
          "metadata": {},
          "execution_count": 20
        }
      ]
    },
    {
      "cell_type": "code",
      "source": [
        "name = 'Azubi'\n",
        "age = 5\n",
        "print(f'Hello World! My name is {name}. and I am {age} years old.')"
      ],
      "metadata": {
        "colab": {
          "base_uri": "https://localhost:8080/"
        },
        "id": "D_wdI4ZbljfY",
        "outputId": "f581fe01-2c0b-4215-eb76-56e06d01879d"
      },
      "execution_count": 24,
      "outputs": [
        {
          "output_type": "stream",
          "name": "stdout",
          "text": [
            "Hello World! My name is Azubi. and I am 5 years old.\n"
          ]
        }
      ]
    },
    {
      "cell_type": "markdown",
      "source": [
        "FINAL PROJECT"
      ],
      "metadata": {
        "id": "aTU_4aigmeHL"
      }
    },
    {
      "cell_type": "code",
      "source": [
        "name = input('Hello Azubi applicant, Please Enter your name: ')\n",
        "age = int(input('You are amazing, Please Enter your age: '))\n",
        "print(f'Welcome {name}, your are {age} years old.')"
      ],
      "metadata": {
        "colab": {
          "base_uri": "https://localhost:8080/"
        },
        "id": "jkLXFev7mgoQ",
        "outputId": "4467759b-f1d2-49cf-8df1-a509613a2e14"
      },
      "execution_count": 27,
      "outputs": [
        {
          "output_type": "stream",
          "name": "stdout",
          "text": [
            "Hello Azubi applicant, Please Enter your name: Kofi\n",
            "You are amazing, Please Enter your age: 10\n",
            "Welcome Kofi, your are 10 years old.\n",
            "10\n"
          ]
        }
      ]
    }
  ]
}