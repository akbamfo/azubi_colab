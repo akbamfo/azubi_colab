{
  "nbformat": 4,
  "nbformat_minor": 0,
  "metadata": {
    "colab": {
      "provenance": [],
      "authorship_tag": "ABX9TyOOnO/E8gn+DkhJ5KKHzuU0",
      "include_colab_link": true
    },
    "kernelspec": {
      "name": "python3",
      "display_name": "Python 3"
    },
    "language_info": {
      "name": "python"
    }
  },
  "cells": [
    {
      "cell_type": "markdown",
      "metadata": {
        "id": "view-in-github",
        "colab_type": "text"
      },
      "source": [
        "<a href=\"https://colab.research.google.com/github/akbamfo/azubi_colab/blob/main/Tip%20Calculator.ipynb\" target=\"_parent\"><img src=\"https://colab.research.google.com/assets/colab-badge.svg\" alt=\"Open In Colab\"/></a>"
      ]
    },
    {
      "cell_type": "code",
      "execution_count": 10,
      "metadata": {
        "colab": {
          "base_uri": "https://localhost:8080/"
        },
        "id": "SQ7QTGHY4ZfW",
        "outputId": "59babba9-e83b-4c57-ca7c-db0086a61223"
      },
      "outputs": [
        {
          "output_type": "stream",
          "name": "stdout",
          "text": [
            "Please enter the amount spent/billed: 100\n",
            "100.0\n",
            "Please enter the percentage: 2.5\n",
            "2.5\n",
            "Please enter the number of people who will split the bill: 5\n",
            "350.0\n",
            "Thank you for patronizing my Tip Calculator, each person will pay: 70.0\n"
          ]
        }
      ],
      "source": [
        "#Ask the user for the total amount of tip\n",
        "amt = float(input('Please enter the amount spent/billed: '))\n",
        "print(amt)\n",
        "\n",
        "# Ask the user the percentage of tip to give\n",
        "tip_per = float(input('Please enter the percentage: '))\n",
        "print(tip_per)\n",
        "\n",
        "# How many people to split the bill\n",
        "\n",
        "pple_bill = int(input('Please enter the number of people who will split the bill: '))\n",
        "\n",
        "# You will need to calculate the amount due\n",
        "tot_amt = (1 + tip_per) * amt\n",
        "print(tot_amt)\n",
        "\n",
        "# How much each person will Pay?\n",
        "amt_per_person = tot_amt / pple_bill\n",
        "\n",
        "print(f'Thank you for patronizing my Tip Calculator, each person will pay: GHS:{amt_per_person}')\n"
      ]
    }
  ]
}